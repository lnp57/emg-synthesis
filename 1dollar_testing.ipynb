{
 "cells": [
  {
   "cell_type": "markdown",
   "id": "60907e80-2120-4376-9d92-8bcdcec222c7",
   "metadata": {},
   "source": [
    "# to do\n",
    "\n",
    "- test the resampling portion -- not working well even with the already resampled files?"
   ]
  },
  {
   "cell_type": "code",
   "execution_count": 1,
   "id": "cd6d54d6-ada0-4be5-99e1-3832cadbfdc1",
   "metadata": {},
   "outputs": [],
   "source": [
    "from globals import *\n",
    "# plt.style.use('dark_background')"
   ]
  },
  {
   "cell_type": "code",
   "execution_count": 2,
   "id": "6bc20732-cc11-40df-9016-251b2ee49c1c",
   "metadata": {},
   "outputs": [
    {
     "ename": "IndentationError",
     "evalue": "expected an indented block (onedollar.py, line 215)",
     "output_type": "error",
     "traceback": [
      "Traceback \u001b[1;36m(most recent call last)\u001b[0m:\n",
      "  File \u001b[0;32m\"c:\\Users\\yamag\\anaconda3\\lib\\site-packages\\IPython\\core\\interactiveshell.py\"\u001b[0m, line \u001b[0;32m3437\u001b[0m, in \u001b[0;35mrun_code\u001b[0m\n    exec(code_obj, self.user_global_ns, self.user_ns)\n",
      "\u001b[1;36m  File \u001b[1;32m\"<ipython-input-2-61c49d96a6ff>\"\u001b[1;36m, line \u001b[1;32m6\u001b[1;36m, in \u001b[1;35m<module>\u001b[1;36m\u001b[0m\n\u001b[1;33m    from onedollar import Onedollar\u001b[0m\n",
      "\u001b[1;36m  File \u001b[1;32m\"d:\\Research\\biosignals-gesture-analysis\\2023fa\\onedollar.py\"\u001b[1;36m, line \u001b[1;32m215\u001b[0m\n\u001b[1;33m    ((p2[0] - p1[0])**2 + (p2[1] - p1[1])**2)**0.5 # x and y\u001b[0m\n\u001b[1;37m    ^\u001b[0m\n\u001b[1;31mIndentationError\u001b[0m\u001b[1;31m:\u001b[0m expected an indented block\n"
     ]
    }
   ],
   "source": [
    "# types of biosignals\n",
    "biosig_names = [\"EMG\",\"IMU\",\"LeapLeft\",\"LeapRight\",\"RGBcamera\",\"SynchData\"]\n",
    "# data_sub_folder = '/movavg_files_resample/'\n",
    "add_IMU = True\n",
    "only_IMU = False\n",
    "from onedollar import Onedollar\n",
    "\n",
    "data_folders = ['movavg_files_resample','IMU_resample']"
   ]
  },
  {
   "cell_type": "markdown",
   "id": "92ca4fa6-a274-495d-a6af-c6a712fd131b",
   "metadata": {},
   "source": [
    "# original gesture recognizer for experimenter defined gestures"
   ]
  },
  {
   "cell_type": "code",
   "execution_count": 23,
   "id": "f94ce7b3-16be-48a4-b54d-dc61bee84dbf",
   "metadata": {},
   "outputs": [],
   "source": [
    "def get_dollar_accuracy(participantID,n_templates=3):\n",
    "    random.seed(N_seed)\n",
    "    path = global_path +participantID+\"\\\\\"\n",
    "    save_path = temp_path + participantID + \"\\\\\"\n",
    "    \n",
    "    movavg_files = os.listdir(save_path+data_folders[0]+'/')\n",
    "    experiment_types = pd.DataFrame()\n",
    "    for pcaf in movavg_files:\n",
    "        experiment_types = pd.concat([experiment_types,\n",
    "            pd.DataFrame({'kind':[pcaf.split(\"_\")[2]],\n",
    "            'motion':[pcaf.split(\"_\")[4]],\n",
    "            'rep':[pcaf.split(\"_\")[5]],\n",
    "            'filename':[pcaf]})], ignore_index=True)\n",
    "    experiment_types = experiment_types[experiment_types['kind'] == 'experimenter-defined']\n",
    "    \n",
    "    # define templates\n",
    "    types = experiment_types['motion'].unique()\n",
    "    experiment_types['template'] = [False for row in range(len(experiment_types))]\n",
    "    for ty in types:\n",
    "        experiment_types.loc[experiment_types[experiment_types['motion'] == ty].sample(n_templates).index,'template'] = True\n",
    "    templates = experiment_types[experiment_types['template'] == True]\n",
    "    # define template data for 1st gesture\n",
    "    templates_for_dollar = []\n",
    "    for t in range(len(templates)):\n",
    "            fname = templates.filename.iloc[t]\n",
    "            # print(global_path+participantID+'/'+data_folders[0]+'/' + fname)\n",
    "            temp_file = np.asarray(pd.read_csv(global_path+participantID+'/'+data_folders[0]+'/' + fname,index_col=0))\n",
    "            if add_IMU:\n",
    "                IMU_fname = \"_\".join(fname.split(\"_\")[:3])+'_IMU_'+\"_\".join(fname.split(\"_\")[4:6])+'_'+data_folders[1]+'.csv'\n",
    "                temp_file = np.hstack([temp_file,np.asarray(pd.read_csv(global_path+participantID+'/'+data_folders[1]+'/' + IMU_fname,index_col=0))])\n",
    "            elif only_IMU:\n",
    "                IMU_fname = \"_\".join(fname.split(\"_\")[:3])+'_IMU_'+\"_\".join(fname.split(\"_\")[4:6])+'_'+data_folders[1]+'.csv'\n",
    "                temp_file = np.asarray(pd.read_csv(global_path+participantID+'/'+data_folders[1]+'/' + IMU_fname,index_col=0))\n",
    "            df_movavg = temp_file.flatten('F')\n",
    "            df_movavg = np.vstack([np.linspace(0,len(df_movavg)-1,len(df_movavg)),df_movavg]).T\n",
    "            templates_for_dollar.append((templates.motion.iloc[t],df_movavg.tolist()))\n",
    "#         if t==np.random.randint(0,len(templates)-1):\n",
    "#             plt.figure()\n",
    "#             plt.plot(df_movavg[:,0],df_movavg[:,1])\n",
    "#             plt.show()\n",
    "    templates_for_dollar = np.asarray(templates_for_dollar,dtype=object)\n",
    "    doll = Onedollar(templates_for_dollar)\n",
    "     \n",
    "    # define test data\n",
    "    test_data = experiment_types[experiment_types['template'] == False].copy()\n",
    "    test_data = test_data.reset_index()\n",
    "    test_data['classified_motion'] = ['' for e in range(len(test_data))]  \n",
    "    test_data_for_dollar = []\n",
    "    \n",
    "    for t in range(len(test_data)):\n",
    "        if add_IMU:\n",
    "            fname = test_data.loc[t,'filename']\n",
    "            IMU_fname = \"_\".join(fname.split(\"_\")[:3])+'_IMU_'+\"_\".join(fname.split(\"_\")[4:6])+'_'+data_folders[1]+'.csv'\n",
    "            EMG_file = pd.read_csv(global_path+participantID+'/'+data_folders[0] + '/'+fname,index_col=0)\n",
    "            IMU_file = pd.read_csv(global_path+participantID+'/'+data_folders[1]+'/'+ IMU_fname,index_col=0)\n",
    "            df_pca = pd.concat([EMG_file, IMU_file.set_index(EMG_file.index)], axis=1)\n",
    "        elif only_IMU:\n",
    "            fname = test_data.loc[t,'filename']\n",
    "            IMU_fname = \"_\".join(fname.split(\"_\")[:3])+'_IMU_'+\"_\".join(fname.split(\"_\")[4:6])+'_'+data_folders[1]+'.csv'\n",
    "            df_pca = pd.read_csv(global_path+participantID+'/'+data_folders[1]+'/' + IMU_fname,index_col=0)\n",
    "        else:\n",
    "            df_pca = pd.read_csv(global_path+participantID+'/'+data_folders[0] + '/'+ test_data.loc[t,'filename'],index_col=0)\n",
    "        df_pca = np.asarray(df_pca)\n",
    "        df_movavg = df_pca.flatten('F')\n",
    "        df_movavg = np.vstack([np.linspace(0,len(df_movavg)-1,len(df_movavg)),df_movavg]).T\n",
    "        test_data.loc[t,'classified_motion'] = doll.get_gesture(df_movavg.tolist())\n",
    "        \n",
    "#     test_data.to_csv(save_path + 'movavg_template_classification.csv')\n",
    "    print(participantID,\"accuracy: \",accuracy_score(test_data['motion'],test_data['classified_motion']))\n",
    "    c = confusion_matrix(test_data['motion'],test_data['classified_motion'],labels=types)\n",
    "    # disp = ConfusionMatrixDisplay(c,display_labels=types)\n",
    "    # disp.plot()\n",
    "    plt.xticks(rotation=45)\n",
    "    plt.title(participantID)\n",
    "    plt.savefig('figs/confusion-'+participantID+'.png',dpi=400,transparent=True,bbox_inches = \"tight\")\n",
    "    # plt.show()\n",
    "    return accuracy_score(test_data['motion'],test_data['classified_motion'])"
   ]
  },
  {
   "cell_type": "code",
   "execution_count": 24,
   "id": "b89d14e3-ce08-4c80-8eec-5c55f9a30fb4",
   "metadata": {},
   "outputs": [
    {
     "name": "stdout",
     "output_type": "stream",
     "text": [
      "P102 accuracy:  0.8309859154929577\n",
      "P103 accuracy:  1.0\n",
      "P104 accuracy:  0.75\n",
      "P105 accuracy:  0.7534246575342466\n",
      "P106 accuracy:  0.7857142857142857\n",
      "P107 accuracy:  0.9571428571428572\n",
      "P108 accuracy:  0.8028169014084507\n",
      "P109 accuracy:  0.8591549295774648\n",
      "P110 accuracy:  0.9142857142857143\n",
      "P111 accuracy:  0.9\n",
      "P112 accuracy:  0.9714285714285714\n",
      "P114 accuracy:  0.6428571428571429\n",
      "P115 accuracy:  0.7605633802816901\n",
      "P116 accuracy:  0.9733333333333334\n",
      "P118 accuracy:  0.958904109589041\n",
      "P119 accuracy:  0.8194444444444444\n",
      "P121 accuracy:  0.9512195121951219\n",
      "P122 accuracy:  0.92\n",
      "P123 accuracy:  0.8333333333333334\n",
      "P124 accuracy:  0.8571428571428571\n",
      "P125 accuracy:  0.8648648648648649\n",
      "P126 accuracy:  0.8142857142857143\n",
      "P127 accuracy:  0.8285714285714286\n",
      "P128 accuracy:  0.9857142857142858\n",
      "P131 accuracy:  0.8857142857142857\n",
      "P132 accuracy:  0.8028169014084507\n"
     ]
    },
    {
     "data": {
      "image/png": "[encoded data removed]",
      "text/plain": [
       "<Figure size 432x288 with 1 Axes>"
      ]
     },
     "metadata": {},
     "output_type": "display_data"
    }
   ],
   "source": [
    "# pID = 'P109'\n",
    "# global_path = \"D:\\\\Research\\\\OneDrive - UW\\\\Data\\\\UW biosignal gesture study\\\\with disability cleaned data\\\\\" # home\n",
    "accuracy_scores = []\n",
    "for pID in pIDs:\n",
    "    accuracy_scores.append(get_dollar_accuracy(pID))\n",
    "accuracy_scores = np.asarray(accuracy_scores)"
   ]
  },
  {
   "cell_type": "code",
   "execution_count": 25,
   "id": "08c05192-723c-4c61-a2ba-cb7be99babba",
   "metadata": {},
   "outputs": [
    {
     "data": {
      "text/plain": [
       "0.8624507471661749"
      ]
     },
     "execution_count": 25,
     "metadata": {},
     "output_type": "execute_result"
    }
   ],
   "source": [
    "np.mean(accuracy_scores)"
   ]
  },
  {
   "cell_type": "code",
   "execution_count": 26,
   "id": "aaf83baa-60ce-4c18-af6b-6ed6431e28fc",
   "metadata": {},
   "outputs": [
    {
     "name": "stdout",
     "output_type": "stream",
     "text": [
      "P001 accuracy:  0.7571428571428571\n",
      "P003 accuracy:  0.8571428571428571\n",
      "P004 accuracy:  0.7857142857142857\n",
      "P005 accuracy:  0.5428571428571428\n",
      "P006 accuracy:  0.7428571428571429\n",
      "P008 accuracy:  0.8571428571428571\n",
      "P010 accuracy:  0.8285714285714286\n",
      "P011 accuracy:  0.5857142857142857\n"
     ]
    },
    {
     "data": {
      "image/png": "[encoded data removed]",
      "text/plain": [
       "<Figure size 432x288 with 1 Axes>"
      ]
     },
     "metadata": {},
     "output_type": "display_data"
    }
   ],
   "source": [
    "accuracy_scores_unimpaired = []\n",
    "for pID in pIDs_unimpaired:\n",
    "    accuracy_scores_unimpaired.append(get_dollar_accuracy(pID))\n",
    "accuracy_scores_unimpaired = np.asarray(accuracy_scores_unimpaired)"
   ]
  },
  {
   "cell_type": "code",
   "execution_count": 27,
   "id": "665b3f38-bc00-4e7e-9a7d-48079feae028",
   "metadata": {},
   "outputs": [
    {
     "data": {
      "image/png": "[encoded data removed]",
      "text/plain": [
       "<Figure size 432x288 with 1 Axes>"
      ]
     },
     "metadata": {},
     "output_type": "display_data"
    }
   ],
   "source": [
    "df = pd.DataFrame({'accuracy': accuracy_scores,\n",
    "                  'participant type': 'with disability (N=26)'})\n",
    "df = pd.concat([df,pd.DataFrame({'accuracy': accuracy_scores_unimpaired,\n",
    "                  'participant type': 'without disability (N=8)'})])\n",
    "# df\n",
    "sns.boxplot(data=df,x=\"participant type\",y=\"accuracy\")\n",
    "plt.title(\"\\$1-gesture recognizer with 3 templates\")\n",
    "plt.savefig('figs/one-dollar.png',dpi=500,bbox_inches='tight')\n",
    "plt.show()"
   ]
  },
  {
   "cell_type": "markdown",
   "id": "3f39e23c-260a-44c4-87d0-0e335326b1e9",
   "metadata": {},
   "source": [
    "# incorporating just the rehab gestures"
   ]
  },
  {
   "cell_type": "code",
   "execution_count": 30,
   "id": "5ea540e7-57b8-40cb-8fd9-efea5f2bc9e7",
   "metadata": {},
   "outputs": [],
   "source": [
    "def get_rotate_accuracy(participantID,n_templates=3):\n",
    "    random.seed(N_seed)\n",
    "    path = global_path +participantID+\"\\\\\"\n",
    "    save_path = temp_path + participantID + \"\\\\\"\n",
    "    \n",
    "    movavg_files = os.listdir(save_path+data_folders[0]+'/')\n",
    "    experiment_types = pd.DataFrame()\n",
    "    for pcaf in movavg_files:\n",
    "        experiment_types = pd.concat([experiment_types,\n",
    "            pd.DataFrame({'kind':[pcaf.split(\"_\")[2]],\n",
    "            'motion':[pcaf.split(\"_\")[4]],\n",
    "            'rep':[pcaf.split(\"_\")[5]],\n",
    "            'filename':[pcaf]})], ignore_index=True)\n",
    "    experiment_types_rehab = experiment_types[(experiment_types['kind'] == 'rehab') & (experiment_types['motion'] != 'endurance')]\n",
    "    experiment_types_rehab = experiment_types_rehab.replace(experiment_types_rehab['motion'].unique(),'rotate')\n",
    "    experiment_types = experiment_types[experiment_types['kind'] == 'experimenter-defined']\n",
    "    # define templates\n",
    "    types = experiment_types['motion'].unique()\n",
    "    experiment_types['template'] = [False for row in range(len(experiment_types))]\n",
    "    for ty in types:\n",
    "        experiment_types.loc[experiment_types[experiment_types['motion'] == ty].sample(n_templates).index,'template'] = True\n",
    "    templates = experiment_types[experiment_types['template'] == True]\n",
    "    # define template data for 1st gesture\n",
    "    templates_for_dollar = []\n",
    "    for t in range(len(templates)):\n",
    "            fname = templates.filename.iloc[t]\n",
    "            temp_file = np.asarray(pd.read_csv(global_path+participantID+'/'+data_folders[0]+'/' + fname,index_col=0))\n",
    "            if add_IMU:\n",
    "                IMU_fname = \"_\".join(fname.split(\"_\")[:3])+'_IMU_'+\"_\".join(fname.split(\"_\")[4:6])+'_'+data_folders[1]+'.csv'\n",
    "                temp_file = np.hstack([temp_file,np.asarray(pd.read_csv(global_path+participantID+'/'+data_folders[1]+'/' + IMU_fname,index_col=0))])\n",
    "            elif only_IMU:\n",
    "                IMU_fname = \"_\".join(fname.split(\"_\")[:3])+'_IMU_'+\"_\".join(fname.split(\"_\")[4:6])+'_'+data_folders[1]+'.csv'\n",
    "                temp_file = np.asarray(pd.read_csv(global_path+participantID+'/'+data_folders[1]+'/' + IMU_fname,index_col=0))\n",
    "            df_movavg = temp_file.flatten('F')\n",
    "            df_movavg = np.vstack([np.linspace(0,len(df_movavg)-1,len(df_movavg)),df_movavg]).T\n",
    "            templates_for_dollar.append((templates.motion.iloc[t],df_movavg.tolist()))\n",
    "#         if t==np.random.randint(0,len(templates)-1):\n",
    "#             plt.figure()\n",
    "#             plt.plot(df_movavg[:,0],df_movavg[:,1])\n",
    "#             plt.show()\n",
    "    templates_for_dollar = np.asarray(templates_for_dollar,dtype=object)\n",
    "    doll = Onedollar(templates_for_dollar)\n",
    "     \n",
    "    # define test data\n",
    "    \n",
    "    test_data = experiment_types_rehab\n",
    "    test_data = test_data.reset_index()\n",
    "    test_data['classified_motion'] = ['' for e in range(len(test_data))]  \n",
    "    test_data_for_dollar = []\n",
    "    \n",
    "    for t in range(len(test_data)):\n",
    "        if add_IMU:\n",
    "            fname = test_data.loc[t,'filename']\n",
    "            IMU_fname = \"_\".join(fname.split(\"_\")[:3])+'_IMU_'+\"_\".join(fname.split(\"_\")[4:6])+'_'+data_folders[1]+'.csv'\n",
    "            EMG_file = pd.read_csv(global_path+participantID+'/'+data_folders[0] + '/'+fname,index_col=0)\n",
    "            IMU_file = pd.read_csv(global_path+participantID+'/'+data_folders[1]+'/'+ IMU_fname,index_col=0)\n",
    "            df_pca = pd.concat([EMG_file, IMU_file.set_index(EMG_file.index)], axis=1)\n",
    "        elif only_IMU:\n",
    "            fname = test_data.loc[t,'filename']\n",
    "            IMU_fname = \"_\".join(fname.split(\"_\")[:3])+'_IMU_'+\"_\".join(fname.split(\"_\")[4:6])+'_'+data_folders[1]+'.csv'\n",
    "            df_pca = pd.read_csv(global_path+participantID+'/'+data_folders[1]+'/' + IMU_fname,index_col=0)\n",
    "        else:\n",
    "            df_pca = pd.read_csv(global_path+participantID+'/'+data_folders[0] + '/'+ test_data.loc[t,'filename'],index_col=0)\n",
    "        df_pca = np.asarray(df_pca)\n",
    "        df_movavg = df_pca.flatten('F')\n",
    "        df_movavg = np.vstack([np.linspace(0,len(df_movavg)-1,len(df_movavg)),df_movavg]).T\n",
    "        test_data.loc[t,'classified_motion'] = doll.get_gesture(df_movavg.tolist())\n",
    "        \n",
    "#     test_data.to_csv(save_path + 'movavg_template_classification.csv')\n",
    "    print(participantID,\"accuracy: \",accuracy_score(test_data['motion'],test_data['classified_motion']))\n",
    "    # c = confusion_matrix(test_data['motion'],test_data['classified_motion'],labels=types)\n",
    "    return accuracy_score(test_data['motion'],test_data['classified_motion'])"
   ]
  },
  {
   "cell_type": "code",
   "execution_count": 31,
   "id": "ca3973c7-d908-4e0b-bdde-5e1fe2cdb227",
   "metadata": {},
   "outputs": [
    {
     "name": "stdout",
     "output_type": "stream",
     "text": [
      "P102 accuracy:  0.0\n",
      "P103 accuracy:  0.6\n",
      "P104 accuracy:  0.41935483870967744\n",
      "P105 accuracy:  0.0\n",
      "P106 accuracy:  0.5666666666666667\n",
      "P107 accuracy:  0.3225806451612903\n",
      "P108 accuracy:  0.5\n",
      "P109 accuracy:  0.8\n",
      "P110 accuracy:  0.5333333333333333\n",
      "P111 accuracy:  0.23333333333333334\n",
      "P112 accuracy:  0.6\n",
      "P114 accuracy:  0.0\n",
      "P115 accuracy:  0.3\n",
      "P116 accuracy:  0.5\n",
      "P118 accuracy:  0.3870967741935484\n",
      "P119 accuracy:  0.26666666666666666\n",
      "P121 accuracy:  0.40625\n",
      "P122 accuracy:  0.36666666666666664\n",
      "P123 accuracy:  0.9666666666666667\n",
      "P124 accuracy:  0.3225806451612903\n",
      "P125 accuracy:  0.0\n",
      "P126 accuracy:  0.8387096774193549\n",
      "P127 accuracy:  0.9666666666666667\n",
      "P128 accuracy:  0.6451612903225806\n"
     ]
    },
    {
     "name": "stderr",
     "output_type": "stream",
     "text": [
      "c:\\Users\\yamag\\anaconda3\\lib\\site-packages\\numpy\\lib\\function_base.py:380: RuntimeWarning: Mean of empty slice.\n",
      "  avg = a.mean(axis)\n",
      "c:\\Users\\yamag\\anaconda3\\lib\\site-packages\\numpy\\core\\_methods.py:188: RuntimeWarning: invalid value encountered in double_scalars\n",
      "  ret = ret.dtype.type(ret / rcount)\n",
      "c:\\Users\\yamag\\anaconda3\\lib\\site-packages\\numpy\\lib\\function_base.py:380: RuntimeWarning: Mean of empty slice.\n",
      "  avg = a.mean(axis)\n",
      "c:\\Users\\yamag\\anaconda3\\lib\\site-packages\\numpy\\core\\_methods.py:188: RuntimeWarning: invalid value encountered in double_scalars\n",
      "  ret = ret.dtype.type(ret / rcount)\n"
     ]
    },
    {
     "name": "stdout",
     "output_type": "stream",
     "text": [
      "P131 accuracy:  nan\n",
      "P132 accuracy:  0.6666666666666666\n"
     ]
    }
   ],
   "source": [
    "accuracy_scores_rotate = []\n",
    "for pID in pIDs:\n",
    "    accuracy_scores_rotate.append(get_rotate_accuracy(pID))\n",
    "accuracy_scores_rotate = np.asarray(accuracy_scores_rotate)"
   ]
  },
  {
   "cell_type": "code",
   "execution_count": 32,
   "id": "b12eb4b4-4fa7-4247-9b5b-ac34f2ca9d11",
   "metadata": {},
   "outputs": [
    {
     "name": "stdout",
     "output_type": "stream",
     "text": [
      "P001 accuracy:  0.36666666666666664\n",
      "P003 accuracy:  0.7741935483870968\n",
      "P004 accuracy:  0.5333333333333333\n",
      "P005 accuracy:  0.8666666666666667\n",
      "P006 accuracy:  0.3\n",
      "P008 accuracy:  0.03333333333333333\n",
      "P010 accuracy:  0.5\n",
      "P011 accuracy:  0.7\n"
     ]
    }
   ],
   "source": [
    "accuracy_scores_rotate_unimpaired = []\n",
    "for pID in pIDs_unimpaired:\n",
    "    accuracy_scores_rotate_unimpaired.append(get_rotate_accuracy(pID))\n",
    "accuracy_scores_rotate_unimpaired = np.asarray(accuracy_scores_rotate_unimpaired)"
   ]
  },
  {
   "cell_type": "code",
   "execution_count": 33,
   "id": "666c6b0c",
   "metadata": {},
   "outputs": [
    {
     "data": {
      "text/plain": [
       "array([0.        , 0.6       , 0.41935484, 0.        , 0.56666667,\n",
       "       0.32258065, 0.5       , 0.8       , 0.53333333, 0.23333333,\n",
       "       0.6       , 0.        , 0.3       , 0.5       , 0.38709677,\n",
       "       0.26666667, 0.40625   , 0.36666667, 0.96666667, 0.32258065,\n",
       "       0.        , 0.83870968, 0.96666667, 0.64516129, 0.66666667])"
      ]
     },
     "execution_count": 33,
     "metadata": {},
     "output_type": "execute_result"
    }
   ],
   "source": [
    "accuracy_scores_rotate[~np.isnan(accuracy_scores_rotate)]"
   ]
  },
  {
   "cell_type": "code",
   "execution_count": 34,
   "id": "ffc4c122",
   "metadata": {},
   "outputs": [
    {
     "data": {
      "image/png": "[encoded data removed]",
      "text/plain": [
       "<Figure size 432x288 with 1 Axes>"
      ]
     },
     "metadata": {},
     "output_type": "display_data"
    }
   ],
   "source": [
    "df = pd.DataFrame({'accuracy': accuracy_scores_rotate[~np.isnan(accuracy_scores_rotate)],\n",
    "                  'participant type': 'with disability (N=25 - one participant didn\\'t complete)'})\n",
    "df = pd.concat([df,pd.DataFrame({'accuracy': accuracy_scores_rotate_unimpaired,\n",
    "                  'participant type': 'without disability (N=8)'})])\n",
    "# df\n",
    "sns.boxplot(data=df,x=\"participant type\",y=\"accuracy\")\n",
    "plt.title(\"rotate accuracy with different types of movements\")\n",
    "plt.savefig('figs/one-dollar-rotate.png',dpi=500,bbox_inches='tight')\n",
    "plt.show()"
   ]
  },
  {
   "cell_type": "markdown",
   "id": "d7efc3d2",
   "metadata": {},
   "source": [
    "# standardized\n",
    "\n",
    "- leave one out? Train templates on all participants except 1 and then test on the last participant? \n",
    "- train on all the samples? Or maybe use all as templates idk \n",
    "- maybe leave out more than 1 \n",
    "- also maybe do within-user validation too "
   ]
  },
  {
   "cell_type": "code",
   "execution_count": 35,
   "id": "4b5793e1",
   "metadata": {},
   "outputs": [],
   "source": [
    "def set_templates(pIDs, n_templates=3):\n",
    "    random.seed(N_seed)\n",
    "    test_data_for_dollar = pd.DataFrame() # initialize pandas dataframe\n",
    "    for participantID in pIDs:\n",
    "        path = global_path +participantID+\"\\\\\"\n",
    "        save_path = temp_path + participantID + \"\\\\\"\n",
    "        templates_for_dollar = []\n",
    "\n",
    "        movavg_files = os.listdir(save_path+data_folders[0]+'/')\n",
    "        experiment_types = pd.DataFrame()\n",
    "        for pcaf in movavg_files:\n",
    "            experiment_types = pd.concat([experiment_types,\n",
    "                pd.DataFrame({'kind':[pcaf.split(\"_\")[2]],\n",
    "                'motion':[pcaf.split(\"_\")[4]],\n",
    "                'rep':[pcaf.split(\"_\")[5]],\n",
    "                'filename':[pcaf]})], ignore_index=True)\n",
    "        experiment_types = experiment_types[experiment_types['kind'] == 'standardized']\n",
    "        # print(participantID,len(experiment_types))\n",
    "        # define templates\n",
    "        types = ['two-handed-tap', 'point-and-pinch', 'pinch-and-scroll', 'air-tap', 'palm-pinch']\n",
    "        experiment_types = experiment_types.loc[experiment_types.motion.isin(types)]\n",
    "\n",
    "        experiment_types['template'] = [False for row in range(len(experiment_types))]\n",
    "        for ty in types:\n",
    "            experiment_types.loc[experiment_types[experiment_types['motion'] == ty].sample(n_templates).index,'template'] = True\n",
    "        templates = experiment_types[experiment_types['template'] == True]\n",
    "        for t in range(len(templates)):\n",
    "                fname = templates.filename.iloc[t]\n",
    "                temp_file = np.asarray(pd.read_csv(global_path+participantID+'/'+data_folders[0]+'/' + fname,index_col=0))\n",
    "                if add_IMU:\n",
    "                    IMU_fname = \"_\".join(fname.split(\"_\")[:3])+'_IMU_'+\"_\".join(fname.split(\"_\")[4:6])+'_'+data_folders[1]+'.csv'\n",
    "                    temp_file = np.hstack([temp_file,np.asarray(pd.read_csv(global_path+participantID+'/'+data_folders[1]+'/' + IMU_fname,index_col=0))])\n",
    "                elif only_IMU:\n",
    "                    IMU_fname = \"_\".join(fname.split(\"_\")[:3])+'_IMU_'+\"_\".join(fname.split(\"_\")[4:6])+'_'+data_folders[1]+'.csv'\n",
    "                    temp_file = np.asarray(pd.read_csv(global_path+participantID+'/'+data_folders[1]+'/' + IMU_fname,index_col=0))\n",
    "                df_movavg = temp_file.flatten('F')\n",
    "                df_movavg = np.vstack([np.linspace(0,len(df_movavg)-1,len(df_movavg)),df_movavg]).T\n",
    "                templates_for_dollar.append((templates.motion.iloc[t],df_movavg.tolist()))\n",
    "        # define test data\n",
    "        test_data = experiment_types[experiment_types['template'] == False].copy()\n",
    "        test_data = test_data.reset_index()\n",
    "        test_data['classified_motion'] = ['' for e in range(len(test_data))]\n",
    "        test_data['participant ID'] = participantID\n",
    "        test_data_for_dollar = test_data_for_dollar.append(test_data,ignore_index=True) \n",
    "            \n",
    "    templates_for_dollar = np.asarray(templates_for_dollar,dtype=object)\n",
    "    doll = Onedollar(templates_for_dollar)\n",
    "    return doll, test_data_for_dollar\n",
    "\n",
    "def get_standardized_accuracy(test_data,doll,participantID):\n",
    "    for t in range(len(test_data)):\n",
    "        fname = test_data.loc[t,'filename']\n",
    "        if add_IMU:\n",
    "            IMU_fname = \"_\".join(fname.split(\"_\")[:3])+'_IMU_'+\"_\".join(fname.split(\"_\")[4:6])+'_'+data_folders[1]+'.csv'\n",
    "            EMG_file = pd.read_csv(global_path+participantID+'/'+data_folders[0] + '/'+fname,index_col=0)\n",
    "            IMU_file = pd.read_csv(global_path+participantID+'/'+data_folders[1]+'/'+ IMU_fname,index_col=0)\n",
    "            df_pca = pd.concat([EMG_file, IMU_file.set_index(EMG_file.index)], axis=1)\n",
    "        elif only_IMU:\n",
    "            IMU_fname = \"_\".join(fname.split(\"_\")[:3])+'_IMU_'+\"_\".join(fname.split(\"_\")[4:6])+'_'+data_folders[1]+'.csv'\n",
    "            df_pca = pd.read_csv(global_path+participantID+'/'+data_folders[1]+'/' + IMU_fname,index_col=0)\n",
    "        else:\n",
    "            df_pca = pd.read_csv(global_path+participantID+'/'+data_folders[0] + '/'+ fname,index_col=0)\n",
    "        df_pca = np.asarray(df_pca)\n",
    "        df_movavg = df_pca.flatten('F')\n",
    "        df_movavg = np.vstack([np.linspace(0,len(df_movavg)-1,len(df_movavg)),df_movavg]).T\n",
    "        test_data.loc[t,'classified_motion'] = doll.get_gesture(df_movavg.tolist())\n",
    "    print(participantID,\"accuracy: \",accuracy_score(test_data['motion'],test_data['classified_motion']))\n",
    "    return accuracy_score(test_data['motion'],test_data['classified_motion'])\n",
    "        "
   ]
  },
  {
   "cell_type": "markdown",
   "id": "52926a5d",
   "metadata": {},
   "source": [
    "## train on all participants, test on all participants"
   ]
  },
  {
   "cell_type": "code",
   "execution_count": 36,
   "id": "479ec82e",
   "metadata": {},
   "outputs": [
    {
     "name": "stdout",
     "output_type": "stream",
     "text": [
      "P104 accuracy:  0.38461538461538464\n",
      "P105 accuracy:  0.42857142857142855\n",
      "P111 accuracy:  0.2\n",
      "P116 accuracy:  0.4857142857142857\n",
      "P119 accuracy:  0.4\n",
      "P123 accuracy:  0.7428571428571429\n",
      "P124 accuracy:  0.40540540540540543\n",
      "P126 accuracy:  0.5428571428571428\n",
      "P003 accuracy:  0.5714285714285714\n",
      "P004 accuracy:  0.5428571428571428\n",
      "P005 accuracy:  0.5714285714285714\n",
      "P006 accuracy:  0.6571428571428571\n",
      "P008 accuracy:  0.6\n",
      "P010 accuracy:  0.5428571428571428\n",
      "P011 accuracy:  0.9142857142857143\n"
     ]
    }
   ],
   "source": [
    "doll ,test_data_for_dollar = set_templates(pIDs_standardized)\n",
    "accuracy_scores_standardized = []\n",
    "for pID in pIDs_standardized:\n",
    "    test_data = test_data_for_dollar.loc[test_data_for_dollar['participant ID']==pID].reset_index()\n",
    "    accuracy_scores_standardized.append(get_standardized_accuracy(test_data,doll,pID))\n",
    "accuracy_scores_standardized = np.asarray(accuracy_scores_standardized)"
   ]
  },
  {
   "cell_type": "markdown",
   "id": "32dc0de3",
   "metadata": {},
   "source": [
    "## leave one participant out"
   ]
  },
  {
   "cell_type": "code",
   "execution_count": 37,
   "id": "e8915d47",
   "metadata": {},
   "outputs": [],
   "source": [
    "pIDs_standardized = ['P104','P105','P111','P116','P119','P123','P124','P126',\n",
    "                     'P003','P004','P005','P006','P008','P010','P011']\n",
    "\n",
    "def get_standardized_accuracy_one(doll,participantID):\n",
    "    # get the data for the participant\n",
    "    path = global_path +participantID+\"\\\\\"\n",
    "    save_path = temp_path + participantID + \"\\\\\"\n",
    "    templates_for_dollar = []\n",
    "\n",
    "    movavg_files = os.listdir(save_path+data_folders[0]+'/')\n",
    "    experiment_types = pd.DataFrame()\n",
    "    for pcaf in movavg_files:\n",
    "        experiment_types = pd.concat([experiment_types,\n",
    "            pd.DataFrame({'kind':[pcaf.split(\"_\")[2]],\n",
    "            'motion':[pcaf.split(\"_\")[4]],\n",
    "            'rep':[pcaf.split(\"_\")[5]],\n",
    "            'filename':[pcaf]})], ignore_index=True)\n",
    "    experiment_types = experiment_types[experiment_types['kind'] == 'standardized']\n",
    "    # define templates\n",
    "    types = ['two-handed-tap', 'point-and-pinch', 'pinch-and-scroll', 'air-tap', 'palm-pinch']\n",
    "    experiment_types = experiment_types.loc[experiment_types.motion.isin(types)]\n",
    "    # define test data\n",
    "    test_data = experiment_types.copy()\n",
    "    test_data = test_data.reset_index()\n",
    "    test_data['classified_motion'] = ['' for e in range(len(test_data))]\n",
    "\n",
    "    # get accuracy for each test data\n",
    "    for t in range(len(test_data)):\n",
    "        fname = test_data.loc[t,'filename']\n",
    "        if add_IMU:\n",
    "            IMU_fname = \"_\".join(fname.split(\"_\")[:3])+'_IMU_'+\"_\".join(fname.split(\"_\")[4:6])+'_'+data_folders[1]+'.csv'\n",
    "            EMG_file = pd.read_csv(global_path+participantID+'/'+data_folders[0] + '/'+fname,index_col=0)\n",
    "            IMU_file = pd.read_csv(global_path+participantID+'/'+data_folders[1]+'/'+ IMU_fname,index_col=0)\n",
    "            df_pca = pd.concat([EMG_file, IMU_file.set_index(EMG_file.index)], axis=1)\n",
    "        elif only_IMU:\n",
    "            IMU_fname = \"_\".join(fname.split(\"_\")[:3])+'_IMU_'+\"_\".join(fname.split(\"_\")[4:6])+'_'+data_folders[1]+'.csv'\n",
    "            df_pca = pd.read_csv(global_path+participantID+'/'+data_folders[1]+'/' + IMU_fname,index_col=0)\n",
    "        else:\n",
    "            df_pca = pd.read_csv(global_path+participantID+'/'+data_folders[0] + '/'+ fname,index_col=0)\n",
    "        df_pca = np.asarray(df_pca)\n",
    "        df_movavg = df_pca.flatten('F')\n",
    "        df_movavg = np.vstack([np.linspace(0,len(df_movavg)-1,len(df_movavg)),df_movavg]).T\n",
    "        test_data.loc[t,'classified_motion'] = doll.get_gesture(df_movavg.tolist())\n",
    "    print(participantID,\"accuracy: \",accuracy_score(test_data['motion'],test_data['classified_motion']))\n",
    "    return accuracy_score(test_data['motion'],test_data['classified_motion'])"
   ]
  },
  {
   "cell_type": "code",
   "execution_count": 38,
   "id": "bc917a10",
   "metadata": {},
   "outputs": [
    {
     "name": "stdout",
     "output_type": "stream",
     "text": [
      "P104 accuracy:  0.5\n",
      "P105 accuracy:  0.34\n",
      "P111 accuracy:  0.2\n",
      "P116 accuracy:  0.5\n",
      "P119 accuracy:  0.42\n",
      "P123 accuracy:  0.84\n",
      "P124 accuracy:  0.46153846153846156\n",
      "P126 accuracy:  0.42\n",
      "P003 accuracy:  0.42\n",
      "P004 accuracy:  0.72\n",
      "P005 accuracy:  0.68\n",
      "P006 accuracy:  0.8\n",
      "P008 accuracy:  0.62\n",
      "P010 accuracy:  0.58\n",
      "P011 accuracy:  0.72\n"
     ]
    }
   ],
   "source": [
    "accuracy_scores_standardized = []\n",
    "for pp,pID in enumerate(pIDs_standardized):\n",
    "    pIDs = np.delete(np.asarray(pIDs_standardized),pp)\n",
    "    doll ,test_data_for_dollar = set_templates(pIDs)\n",
    "    accuracy_scores_standardized.append(get_standardized_accuracy_one(doll,pID))\n",
    "accuracy_scores_standardized = np.asarray(accuracy_scores_standardized)"
   ]
  },
  {
   "cell_type": "markdown",
   "id": "c0d26e60",
   "metadata": {},
   "source": [
    "# all the figures together"
   ]
  },
  {
   "cell_type": "code",
   "execution_count": 3,
   "id": "08553c64",
   "metadata": {},
   "outputs": [],
   "source": [
    "# # the original\n",
    "# df_dollar = pd.DataFrame({'accuracy': accuracy_scores,\n",
    "#                   'participant type': 'with (N=26)'})\n",
    "# df_dollar = pd.concat([df_dollar,pd.DataFrame({'accuracy': accuracy_scores_unimpaired,\n",
    "#                   'participant type': 'without (N=8)'})])\n",
    "# df_dollar.to_pickle('data/df_dollar.pkl')\n",
    "\n",
    "# # just the rotate\n",
    "# df_rotate = pd.DataFrame({'accuracy': accuracy_scores_rotate[~np.isnan(accuracy_scores_rotate)],\n",
    "#                   'participant type': 'with (N=25)'})\n",
    "# df_rotate = pd.concat([df_rotate,pd.DataFrame({'accuracy': accuracy_scores_rotate_unimpaired,\n",
    "#                   'participant type': 'without (N=8)'})])\n",
    "# df_rotate.to_pickle('data/df_rotate.pkl')\n",
    "# # just the standardized\n",
    "# df_standardized = pd.DataFrame({'accuracy': accuracy_scores_standardized[:8],\n",
    "#                   'participant type': 'with (N=8)'})\n",
    "# df_standardized = pd.concat([df_standardized,pd.DataFrame({'accuracy': accuracy_scores_standardized[8:],\n",
    "#                   'participant type': 'without (N=7)'})])\n",
    "# df_standardized.to_pickle('data/df_standardized.pkl')\n",
    "\n",
    "df_dollar = pd.read_pickle('data/df_dollar.pkl')\n",
    "df_rotate = pd.read_pickle('data/df_rotate.pkl')\n",
    "df_standardized = pd.read_pickle('data/df_standardized.pkl')"
   ]
  },
  {
   "cell_type": "code",
   "execution_count": 4,
   "id": "045b6635",
   "metadata": {},
   "outputs": [
    {
     "data": {
      "image/png": "[encoded data removed]",
      "text/plain": [
       "<Figure size 720x504 with 3 Axes>"
      ]
     },
     "metadata": {
      "needs_background": "light"
     },
     "output_type": "display_data"
    }
   ],
   "source": [
    "fig,axs = plt.subplots(1,3,figsize=(10,7),sharey=True)\n",
    "\n",
    "ax = axs[0]\n",
    "sns.boxplot(data=df_dollar,x=\"participant type\",y=\"accuracy\",ax=ax)\n",
    "ax.set_title(\"within-participant\")\n",
    "\n",
    "ax = axs[1]\n",
    "sns.boxplot(data=df_rotate,x=\"participant type\",y=\"accuracy\",ax=ax)\n",
    "ax.set_title(\"within-participant: rotate\")\n",
    "\n",
    "ax = axs[2]\n",
    "sns.boxplot(data=df_standardized,x=\"participant type\",y=\"accuracy\",ax=ax)\n",
    "ax.set_title(\"between-participant\")\n",
    "plt.suptitle('1 dollar gesture recognizer')\n",
    "\n",
    "figname = '1dollar_test.png'\n",
    "plt.savefig('figs/'+figname,dpi=150)\n",
    "\n",
    "plt.show()"
   ]
  },
  {
   "cell_type": "code",
   "execution_count": null,
   "id": "8af60533",
   "metadata": {},
   "outputs": [],
   "source": []
  }
 ],
 "metadata": {
  "kernelspec": {
   "display_name": "Python 3",
   "language": "python",
   "name": "python3"
  },
  "language_info": {
   "codemirror_mode": {
    "name": "ipython",
    "version": 3
   },
   "file_extension": ".py",
   "mimetype": "text/x-python",
   "name": "python",
   "nbconvert_exporter": "python",
   "pygments_lexer": "ipython3",
   "version": "3.8.8"
  }
 },
 "nbformat": 4,
 "nbformat_minor": 5
}
